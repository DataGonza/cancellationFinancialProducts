{
 "cells": [
  {
   "cell_type": "markdown",
   "id": "5dc483f4-37c7-4cba-91cf-217e497caa25",
   "metadata": {},
   "source": [
    "# Problem\n",
    "This project is a solution to the hackathon of Kin Analytics company. The problem is to predict which customers will drop a product in less than two years based on their use of the company's products and financial data such as bank account transactions and credit bureau scores.\n",
    "## Data\n",
    "The data to work are four datasets with information (Data aren't in GitHub repository for privacy and size reasons.): \n",
    "1) clients: This is a historical database of clients that have purchased the product “Kin Safety” from 2012 to the delivery date.\n",
    "2) clientProducts: Historical of the products the client had with the Kin Security at the moment he/she applied to the new product.\n",
    "3) transactions: The transactions of clients in the pre-application moment.\n",
    "4) creditScore: Bureau score of clients 6 months before and 6 months after the client applied to the new product."
   ]
  },
  {
   "cell_type": "code",
   "execution_count": 1,
   "id": "42076489-4905-48ef-8eb3-f35be7039f76",
   "metadata": {},
   "outputs": [],
   "source": [
    "# All packages to work in the problem\n",
    "import pandas as pd\n",
    "import numpy as np"
   ]
  },
  {
   "cell_type": "code",
   "execution_count": 14,
   "id": "fb247858-322d-473d-953e-96f17ffe79d6",
   "metadata": {},
   "outputs": [],
   "source": [
    "# Read all datasets with CustomerId as the index to simplify merge\n",
    "clients = pd.read_csv(\"C:/Users/DavidG/Documents/Datacfp/BASE DE DATOS/clients_table.txt\", index_col = \"CustomerId\")\n",
    "clientProducts = pd.read_csv(\"C:/Users/DavidG/Documents/Datacfp/BASE DE DATOS/products_table.txt\", index_col = \"CustomerId\")\n",
    "transactions = pd.read_csv(\"C:/Users/DavidG/Documents/Datacfp/BASE DE DATOS/transactions_table.txt\", index_col = \"CustomerId\")\n",
    "creditScore = pd.read_csv(\"C:/Users/DavidG/Documents/Datacfp/BASE DE DATOS/credit_score_table.txt\", index_col = \"CustomerId\")"
   ]
  },
  {
   "cell_type": "code",
   "execution_count": 21,
   "id": "b4f4d596-ad0b-4532-9516-5a06229ef4f6",
   "metadata": {
    "tags": []
   },
   "outputs": [
    {
     "data": {
      "text/html": [
       "<div>\n",
       "<style scoped>\n",
       "    .dataframe tbody tr th:only-of-type {\n",
       "        vertical-align: middle;\n",
       "    }\n",
       "\n",
       "    .dataframe tbody tr th {\n",
       "        vertical-align: top;\n",
       "    }\n",
       "\n",
       "    .dataframe thead th {\n",
       "        text-align: right;\n",
       "    }\n",
       "</style>\n",
       "<table border=\"1\" class=\"dataframe\">\n",
       "  <thead>\n",
       "    <tr style=\"text-align: right;\">\n",
       "      <th></th>\n",
       "      <th>Surname</th>\n",
       "      <th>Geography</th>\n",
       "      <th>Gender</th>\n",
       "      <th>HasCrCard</th>\n",
       "      <th>IsActiveMember</th>\n",
       "      <th>EstimatedSalary</th>\n",
       "      <th>application_date</th>\n",
       "      <th>exit_date</th>\n",
       "      <th>birth_date</th>\n",
       "    </tr>\n",
       "    <tr>\n",
       "      <th>CustomerId</th>\n",
       "      <th></th>\n",
       "      <th></th>\n",
       "      <th></th>\n",
       "      <th></th>\n",
       "      <th></th>\n",
       "      <th></th>\n",
       "      <th></th>\n",
       "      <th></th>\n",
       "      <th></th>\n",
       "    </tr>\n",
       "  </thead>\n",
       "  <tbody>\n",
       "    <tr>\n",
       "      <th>15745584</th>\n",
       "      <td>EIRLS</td>\n",
       "      <td>Germany</td>\n",
       "      <td>Female</td>\n",
       "      <td>0.0</td>\n",
       "      <td>1.0</td>\n",
       "      <td>0.00</td>\n",
       "      <td>2018-12-14</td>\n",
       "      <td>NaN</td>\n",
       "      <td>1997-09-18</td>\n",
       "    </tr>\n",
       "    <tr>\n",
       "      <th>14990118</th>\n",
       "      <td>MOLOCK</td>\n",
       "      <td>Italy</td>\n",
       "      <td>Male</td>\n",
       "      <td>1.0</td>\n",
       "      <td>0.0</td>\n",
       "      <td>121219.28</td>\n",
       "      <td>2019-01-08</td>\n",
       "      <td>NaN</td>\n",
       "      <td>1980-08-03</td>\n",
       "    </tr>\n",
       "    <tr>\n",
       "      <th>14733224</th>\n",
       "      <td>PAWLUCH</td>\n",
       "      <td>Italy</td>\n",
       "      <td>Female</td>\n",
       "      <td>1.0</td>\n",
       "      <td>1.0</td>\n",
       "      <td>159663.59</td>\n",
       "      <td>2012-08-01</td>\n",
       "      <td>2013-08-09</td>\n",
       "      <td>1977-08-19</td>\n",
       "    </tr>\n",
       "    <tr>\n",
       "      <th>14648573</th>\n",
       "      <td>NALLS</td>\n",
       "      <td>Spain</td>\n",
       "      <td>Male</td>\n",
       "      <td>1.0</td>\n",
       "      <td>0.0</td>\n",
       "      <td>140827.98</td>\n",
       "      <td>2019-06-19</td>\n",
       "      <td>NaN</td>\n",
       "      <td>1979-02-27</td>\n",
       "    </tr>\n",
       "    <tr>\n",
       "      <th>15365443</th>\n",
       "      <td>EBERLE</td>\n",
       "      <td>Italy</td>\n",
       "      <td>Male</td>\n",
       "      <td>1.0</td>\n",
       "      <td>0.0</td>\n",
       "      <td>35521.28</td>\n",
       "      <td>2014-01-26</td>\n",
       "      <td>2015-12-04</td>\n",
       "      <td>1972-12-21</td>\n",
       "    </tr>\n",
       "  </tbody>\n",
       "</table>\n",
       "</div>"
      ],
      "text/plain": [
       "            Surname Geography  Gender  HasCrCard  IsActiveMember  \\\n",
       "CustomerId                                                         \n",
       "15745584      EIRLS   Germany  Female        0.0             1.0   \n",
       "14990118     MOLOCK     Italy    Male        1.0             0.0   \n",
       "14733224    PAWLUCH     Italy  Female        1.0             1.0   \n",
       "14648573      NALLS     Spain    Male        1.0             0.0   \n",
       "15365443     EBERLE     Italy    Male        1.0             0.0   \n",
       "\n",
       "            EstimatedSalary application_date   exit_date  birth_date  \n",
       "CustomerId                                                            \n",
       "15745584               0.00       2018-12-14         NaN  1997-09-18  \n",
       "14990118          121219.28       2019-01-08         NaN  1980-08-03  \n",
       "14733224          159663.59       2012-08-01  2013-08-09  1977-08-19  \n",
       "14648573          140827.98       2019-06-19         NaN  1979-02-27  \n",
       "15365443           35521.28       2014-01-26  2015-12-04  1972-12-21  "
      ]
     },
     "execution_count": 21,
     "metadata": {},
     "output_type": "execute_result"
    }
   ],
   "source": [
    "clients.head()"
   ]
  },
  {
   "cell_type": "code",
   "execution_count": null,
   "id": "cda0cf3e-0864-4eb2-970b-bb76bc84f1df",
   "metadata": {},
   "outputs": [],
   "source": []
  }
 ],
 "metadata": {
  "kernelspec": {
   "display_name": "Python 3 (ipykernel)",
   "language": "python",
   "name": "python3"
  },
  "language_info": {
   "codemirror_mode": {
    "name": "ipython",
    "version": 3
   },
   "file_extension": ".py",
   "mimetype": "text/x-python",
   "name": "python",
   "nbconvert_exporter": "python",
   "pygments_lexer": "ipython3",
   "version": "3.8.5"
  }
 },
 "nbformat": 4,
 "nbformat_minor": 5
}
