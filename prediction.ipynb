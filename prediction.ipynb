{
 "cells": [
  {
   "cell_type": "markdown",
   "id": "5dc483f4-37c7-4cba-91cf-217e497caa25",
   "metadata": {
    "tags": []
   },
   "source": [
    "# Problem\n",
    "This project is a solution to the hackathon of Kin Analytics company. The problem is to predict which customers will drop a product in less than two years based on their use of the company's products and financial data such as bank account transactions and credit bureau scores."
   ]
  },
  {
   "cell_type": "markdown",
   "id": "45fd2106-2c41-4e64-9375-07a665f6139c",
   "metadata": {
    "tags": []
   },
   "source": [
    "## Data\n",
    "The data to work are four datasets with information (Data aren't in GitHub repository because the size is too big. Instead, data are in a folder on google drive.): \n",
    "1) clients: This is a historical database of clients that have purchased the product “Kin Safety” from 2012 to the delivery date.\n",
    "2) clientProducts: Historical of the products the client had with the Kin Security at the moment he/she applied to the new product.\n",
    "3) transactions: The transactions of clients in the pre-application moment.\n",
    "4) creditScore: Bureau score of clients 6 months before and 6 months after the client applied to the new product."
   ]
  },
  {
   "cell_type": "code",
   "execution_count": 1,
   "id": "42076489-4905-48ef-8eb3-f35be7039f76",
   "metadata": {
    "tags": []
   },
   "outputs": [],
   "source": [
    "# All packages to work in the problem\n",
    "import pandas as pd\n",
    "import numpy as np\n",
    "import datetime as dt"
   ]
  },
  {
   "cell_type": "code",
   "execution_count": 2,
   "id": "fb247858-322d-473d-953e-96f17ffe79d6",
   "metadata": {},
   "outputs": [],
   "source": [
    "# Load all datasets, This process may take a while due to the download process.\n",
    "clients = pd.read_csv(\"https://drive.google.com/uc?&confirm=no_antivirus&id=1JdAGtUh4lD4yUCDh5Og5mz8Laa1tBwFH\")\n",
    "clientProducts = pd.read_csv(\"https://drive.google.com/uc?&confirm=no_antivirus&id=1wv4xDpDEkImctyyMdZFWYlIOK4IDnUDP\")\n",
    "transactions = pd.read_csv(\"https://drive.google.com/uc?&confirm=no_antivirus&id=1ienvneTVRPXEGYK4n8OtfW_80_kySg6R\")\n",
    "creditScore = pd.read_csv(\"https://drive.google.com/uc?&confirm=no_antivirus&id=1i2YVzFXKPGzO2qQs9zNZzYws1aWLD0pS\")\n",
    "# To work with local files, uncomment these lines and write the local path of files:\n",
    "#clients = pd.read_csv(\"C:/Users/DavidG/Documents/Datacfp/BASE DE DATOS/clients_table.txt\")\n",
    "#clientProducts = pd.read_csv(\"C:/Users/DavidG/Documents/Datacfp/BASE DE DATOS/products_table.txt\")\n",
    "#transactions = pd.read_csv(\"C:/Users/DavidG/Documents/Datacfp/BASE DE DATOS/transactions_table.txt\")\n",
    "#creditScore = pd.read_csv(\"C:/Users/DavidG/Documents/Datacfp/BASE DE DATOS/credit_score_table.txt\")"
   ]
  },
  {
   "cell_type": "markdown",
   "id": "3ef6c459-16c7-49f2-8e0e-7f3b95618424",
   "metadata": {
    "tags": []
   },
   "source": [
    "## Desired Population\n",
    "* Contracts from 2015 onwards.\n",
    "* Operations in Italy were closed this year (2019).\n",
    "* Take out clients with more than 75% of their info missing.\n",
    "* Each client should only have one contract in the database, no more.\n",
    "* A client to be eligible, it must have at least two years of information within the company (even if it canceled the product)."
   ]
  },
  {
   "cell_type": "code",
   "execution_count": 3,
   "id": "dfab533a-d103-4090-9381-4cf0e14302f0",
   "metadata": {},
   "outputs": [
    {
     "data": {
      "text/html": [
       "<div>\n",
       "<style scoped>\n",
       "    .dataframe tbody tr th:only-of-type {\n",
       "        vertical-align: middle;\n",
       "    }\n",
       "\n",
       "    .dataframe tbody tr th {\n",
       "        vertical-align: top;\n",
       "    }\n",
       "\n",
       "    .dataframe thead th {\n",
       "        text-align: right;\n",
       "    }\n",
       "</style>\n",
       "<table border=\"1\" class=\"dataframe\">\n",
       "  <thead>\n",
       "    <tr style=\"text-align: right;\">\n",
       "      <th></th>\n",
       "      <th>CustomerId</th>\n",
       "      <th>Surname</th>\n",
       "      <th>Geography</th>\n",
       "      <th>Gender</th>\n",
       "      <th>HasCrCard</th>\n",
       "      <th>IsActiveMember</th>\n",
       "      <th>EstimatedSalary</th>\n",
       "      <th>application_date</th>\n",
       "      <th>exit_date</th>\n",
       "      <th>birth_date</th>\n",
       "    </tr>\n",
       "  </thead>\n",
       "  <tbody>\n",
       "    <tr>\n",
       "      <th>0</th>\n",
       "      <td>15745584</td>\n",
       "      <td>EIRLS</td>\n",
       "      <td>Germany</td>\n",
       "      <td>Female</td>\n",
       "      <td>0.0</td>\n",
       "      <td>1.0</td>\n",
       "      <td>0.00</td>\n",
       "      <td>2018-12-14</td>\n",
       "      <td>NaN</td>\n",
       "      <td>1997-09-18</td>\n",
       "    </tr>\n",
       "    <tr>\n",
       "      <th>1</th>\n",
       "      <td>14990118</td>\n",
       "      <td>MOLOCK</td>\n",
       "      <td>Italy</td>\n",
       "      <td>Male</td>\n",
       "      <td>1.0</td>\n",
       "      <td>0.0</td>\n",
       "      <td>121219.28</td>\n",
       "      <td>2019-01-08</td>\n",
       "      <td>NaN</td>\n",
       "      <td>1980-08-03</td>\n",
       "    </tr>\n",
       "    <tr>\n",
       "      <th>2</th>\n",
       "      <td>14733224</td>\n",
       "      <td>PAWLUCH</td>\n",
       "      <td>Italy</td>\n",
       "      <td>Female</td>\n",
       "      <td>1.0</td>\n",
       "      <td>1.0</td>\n",
       "      <td>159663.59</td>\n",
       "      <td>2012-08-01</td>\n",
       "      <td>2013-08-09</td>\n",
       "      <td>1977-08-19</td>\n",
       "    </tr>\n",
       "    <tr>\n",
       "      <th>3</th>\n",
       "      <td>14648573</td>\n",
       "      <td>NALLS</td>\n",
       "      <td>Spain</td>\n",
       "      <td>Male</td>\n",
       "      <td>1.0</td>\n",
       "      <td>0.0</td>\n",
       "      <td>140827.98</td>\n",
       "      <td>2019-06-19</td>\n",
       "      <td>NaN</td>\n",
       "      <td>1979-02-27</td>\n",
       "    </tr>\n",
       "    <tr>\n",
       "      <th>4</th>\n",
       "      <td>15365443</td>\n",
       "      <td>EBERLE</td>\n",
       "      <td>Italy</td>\n",
       "      <td>Male</td>\n",
       "      <td>1.0</td>\n",
       "      <td>0.0</td>\n",
       "      <td>35521.28</td>\n",
       "      <td>2014-01-26</td>\n",
       "      <td>2015-12-04</td>\n",
       "      <td>1972-12-21</td>\n",
       "    </tr>\n",
       "  </tbody>\n",
       "</table>\n",
       "</div>"
      ],
      "text/plain": [
       "   CustomerId  Surname Geography  Gender  HasCrCard  IsActiveMember  \\\n",
       "0    15745584    EIRLS   Germany  Female        0.0             1.0   \n",
       "1    14990118   MOLOCK     Italy    Male        1.0             0.0   \n",
       "2    14733224  PAWLUCH     Italy  Female        1.0             1.0   \n",
       "3    14648573    NALLS     Spain    Male        1.0             0.0   \n",
       "4    15365443   EBERLE     Italy    Male        1.0             0.0   \n",
       "\n",
       "   EstimatedSalary application_date   exit_date  birth_date  \n",
       "0             0.00       2018-12-14         NaN  1997-09-18  \n",
       "1        121219.28       2019-01-08         NaN  1980-08-03  \n",
       "2        159663.59       2012-08-01  2013-08-09  1977-08-19  \n",
       "3        140827.98       2019-06-19         NaN  1979-02-27  \n",
       "4         35521.28       2014-01-26  2015-12-04  1972-12-21  "
      ]
     },
     "execution_count": 3,
     "metadata": {},
     "output_type": "execute_result"
    }
   ],
   "source": [
    "clients.head() # First, I see the general structure of the clients' dataset"
   ]
  },
  {
   "cell_type": "code",
   "execution_count": 4,
   "id": "90a89e64-d55c-45d0-91b7-50de50bb1b83",
   "metadata": {
    "tags": []
   },
   "outputs": [
    {
     "name": "stdout",
     "output_type": "stream",
     "text": [
      "False\n",
      "45000 entries are in excess\n",
      "I started with 1545000 entries and I finished with 1500000 unique entries\n"
     ]
    }
   ],
   "source": [
    "n_entries = len(clients)\n",
    "n_unique_clients = len(clients['CustomerId'].unique())\n",
    "print(n_entries == n_unique_clients) # I check if each client has only one entry in the dataset, The result is false, I will try to drop duplicate entries.\n",
    "print(\"{} entries are in excess\".format(n_entries - n_unique_clients)) # This is the number of entries that I have in excess.\n",
    "clients.drop_duplicates(inplace = True) # Drop duplicates entries\n",
    "assert len(clients['CustomerId'].unique()) == len(clients) # Check if this process gives me the result I need. \n",
    "# It's works\n",
    "print(\"I started with {} entries and I finished with {} unique entries\". format(n_entries, n_unique_clients))"
   ]
  },
  {
   "cell_type": "code",
   "execution_count": 5,
   "id": "4ceecc73-c856-4b38-a6ea-18f8d3492f1e",
   "metadata": {},
   "outputs": [
    {
     "name": "stdout",
     "output_type": "stream",
     "text": [
      "After selecting only contracts from 2015 to 2 years before the last contract. The dataset has 10000 entries\n"
     ]
    }
   ],
   "source": [
    "clients['application_date'] = pd.to_datetime(clients['application_date']) # Then, I convert to datetime the 'application_date' column\n",
    "clients = clients[(clients['application_date'] >= '2015') \n",
    "                  & (clients['application_date'] <= max(clients['application_date']) - pd.Timedelta('730d'))]\n",
    "# I apply a filter with querying contracts from 2015 until the max date minus 730 days (2 years) Pandas will not support Y, M, and y values.\n",
    "# It's better to use days and avoids future headaches.\n",
    "print(\"After selecting only contracts from 2015 to 2 years before the last contract. The dataset has {} entries\". format(len(clients)))"
   ]
  },
  {
   "cell_type": "code",
   "execution_count": 6,
   "id": "b4f4d596-ad0b-4532-9516-5a06229ef4f6",
   "metadata": {
    "tags": []
   },
   "outputs": [
    {
     "name": "stdout",
     "output_type": "stream",
     "text": [
      "['Germany' 'France' 'Spain']\n",
      "CustomerId             0\n",
      "Surname                0\n",
      "Geography              0\n",
      "Gender                 0\n",
      "HasCrCard              0\n",
      "IsActiveMember         0\n",
      "EstimatedSalary        0\n",
      "application_date       0\n",
      "exit_date           2817\n",
      "birth_date             0\n",
      "dtype: int64\n",
      "The final number of clients after filtering is 10000\n"
     ]
    }
   ],
   "source": [
    "print(clients['Geography'].unique()) # After applying the filter, The dataset doesn't have clients from Italy. For this reason, It isn't necessary to apply a filter for Italy´s clients.\n",
    "print(clients.apply(lambda x: sum(x.isna()), axis = 0)) # In this step, I check the clients who have lost information. Only in exit_date appears missing data.\n",
    "# For this reason, I don't need to apply a filter to leave clients with 25% or more information.\n",
    "print(\"The final number of clients after filtering is {}\". format(len(clients)))"
   ]
  },
  {
   "cell_type": "code",
   "execution_count": 7,
   "id": "2ee24323-c681-4aff-b60b-c91678b80b15",
   "metadata": {
    "tags": []
   },
   "outputs": [],
   "source": [
    "clients['birth_date'] = pd.to_datetime(clients['birth_date']) # Then, I convert to datetime the 'birth_date' column\n",
    "clients['Age'] = (clients['application_date'] - clients['birth_date']).astype('timedelta64[Y]') # And I create the column age at the moment of application.\n",
    "clients.reset_index(drop = True, inplace = True) # Finally I reset the index\n",
    "# The clients' dataset is ready to use."
   ]
  },
  {
   "cell_type": "markdown",
   "id": "2fa3d05f-6fc4-4317-ae80-15ff10b0d5f9",
   "metadata": {},
   "source": [
    "## Products dataset\n",
    "This dataset is used to get the number of products per client at the moment of application."
   ]
  },
  {
   "cell_type": "code",
   "execution_count": 8,
   "id": "cecd71fc-dcad-4648-b20b-9c90ae924a12",
   "metadata": {},
   "outputs": [
    {
     "name": "stdout",
     "output_type": "stream",
     "text": [
      "0\n"
     ]
    }
   ],
   "source": [
    "print(sum(clientProducts.duplicated())) # First, I check if the clientProducts dataset has duplicate entries. The result is 0, There aren't duplicate entries.\n",
    "products = clientProducts.groupby('CustomerId').agg({'Products': len}) # Then, I create a new dataset with the number of products of each client. I use groupby and agg to make it optimized.\n",
    "clients = pd.merge(clients, products, how='left', on='CustomerId') # Finally, I merge the clients' dataset with the product dataset."
   ]
  },
  {
   "cell_type": "markdown",
   "id": "0bbffebe-5859-40f2-bb4a-7581ff8174fc",
   "metadata": {
    "tags": []
   },
   "source": [
    "## Transactions dataset\n",
    "This dataset is used to get the balance in the bank account at the moment of application."
   ]
  },
  {
   "cell_type": "code",
   "execution_count": 9,
   "id": "cd27ace2-4ab3-42ac-91b5-e388c3ff58d7",
   "metadata": {},
   "outputs": [
    {
     "name": "stdout",
     "output_type": "stream",
     "text": [
      "CustomerId       int64\n",
      "Transaction     object\n",
      "Value          float64\n",
      "dtype: object\n",
      "0\n"
     ]
    }
   ],
   "source": [
    "print(transactions.dtypes) # First, I check if the columns' types are correct to manipulate it. The 'Value' column is float, It's correct to get the balance.\n",
    "print(sum(transactions.duplicated())) # I check if the transaction dataset has duplicate entries. The result is 0, There aren't duplicate entries.\n",
    "balance = transactions.groupby('CustomerId').agg({'Value': np.sum}) # Then, I create a new dataset with the value in the clients' accounts. I use groupby and agg to make it optimized.\n",
    "clients = pd.merge(clients, balance, how='left', on='CustomerId') # Finally, I merge the clients' dataset with the balance dataset."
   ]
  },
  {
   "cell_type": "markdown",
   "id": "bc5e96a6-5db9-43f4-8897-5bd8475b3cbc",
   "metadata": {},
   "source": [
    "## Credit bureau scores\n",
    "This dataset is used to get the score of the credit bureau at the moment of application."
   ]
  },
  {
   "cell_type": "code",
   "execution_count": 10,
   "id": "83d1b9ff-59a4-4884-bcbc-5edc5bfaf658",
   "metadata": {},
   "outputs": [
    {
     "name": "stdout",
     "output_type": "stream",
     "text": [
      "0\n"
     ]
    }
   ],
   "source": [
    "creditScore['Date'] = pd.to_datetime(creditScore['Date']) # First, I convert 'Date' column to datetime format\n",
    "# To search the credit score at the moment of application, I create the function 'get_score' to apply each row of clients' dataset\n",
    "def get_score(row):\n",
    "    client_scores = creditScore[creditScore['CustomerId'] == row['CustomerId']] # In the function, first I get the data of the client who I need\n",
    "    try:\n",
    "    # Then, I try to get the score with the comparison of the date of application and the date in credit data client\n",
    "        score = client_scores[client_scores['Date'].dt.to_period('M') == row['application_date'].to_period('M')]['Score']\n",
    "        return int(score)\n",
    "    except:\n",
    "    # If I don't find the value, I return NaN value\n",
    "        return np.NaN\n",
    "\n",
    "clients['Score'] = clients.apply(get_score, axis = 1) # I apply the function. Always Apply is better than a for loop ;)\n",
    "print(sum(clients['Score'].isna())) # I check if the apply function doesn't find a value, The result is 0, all values are found."
   ]
  },
  {
   "cell_type": "markdown",
   "id": "d18fb833-21dc-4442-9dfd-301a74a82293",
   "metadata": {},
   "source": [
    "# Statistics variables\n",
    "In this section, I find the mean, standard deviation, maximum, and minimum of the age, products, balance, and score."
   ]
  },
  {
   "cell_type": "code",
   "execution_count": 12,
   "id": "942c7b76-afeb-4499-a0cc-05542003d28f",
   "metadata": {},
   "outputs": [
    {
     "data": {
      "text/html": [
       "<div>\n",
       "<style scoped>\n",
       "    .dataframe tbody tr th:only-of-type {\n",
       "        vertical-align: middle;\n",
       "    }\n",
       "\n",
       "    .dataframe tbody tr th {\n",
       "        vertical-align: top;\n",
       "    }\n",
       "\n",
       "    .dataframe thead th {\n",
       "        text-align: right;\n",
       "    }\n",
       "</style>\n",
       "<table border=\"1\" class=\"dataframe\">\n",
       "  <thead>\n",
       "    <tr style=\"text-align: right;\">\n",
       "      <th></th>\n",
       "      <th>Age</th>\n",
       "      <th>Products</th>\n",
       "      <th>Balance</th>\n",
       "      <th>Score</th>\n",
       "    </tr>\n",
       "  </thead>\n",
       "  <tbody>\n",
       "    <tr>\n",
       "      <th>mean</th>\n",
       "      <td>38.921800</td>\n",
       "      <td>1.530200</td>\n",
       "      <td>7.648589e+04</td>\n",
       "      <td>650.528800</td>\n",
       "    </tr>\n",
       "    <tr>\n",
       "      <th>std</th>\n",
       "      <td>10.487806</td>\n",
       "      <td>0.581654</td>\n",
       "      <td>6.239741e+04</td>\n",
       "      <td>96.653299</td>\n",
       "    </tr>\n",
       "    <tr>\n",
       "      <th>amax</th>\n",
       "      <td>92.000000</td>\n",
       "      <td>4.000000</td>\n",
       "      <td>2.508981e+05</td>\n",
       "      <td>850.000000</td>\n",
       "    </tr>\n",
       "    <tr>\n",
       "      <th>amin</th>\n",
       "      <td>18.000000</td>\n",
       "      <td>1.000000</td>\n",
       "      <td>-1.818989e-12</td>\n",
       "      <td>350.000000</td>\n",
       "    </tr>\n",
       "  </tbody>\n",
       "</table>\n",
       "</div>"
      ],
      "text/plain": [
       "            Age  Products       Balance       Score\n",
       "mean  38.921800  1.530200  7.648589e+04  650.528800\n",
       "std   10.487806  0.581654  6.239741e+04   96.653299\n",
       "amax  92.000000  4.000000  2.508981e+05  850.000000\n",
       "amin  18.000000  1.000000 -1.818989e-12  350.000000"
      ]
     },
     "execution_count": 12,
     "metadata": {},
     "output_type": "execute_result"
    }
   ],
   "source": [
    "clients.rename(columns = {'Value': 'Balance'}, inplace = True) # First I rename the 'Value' column to a more explicit name\n",
    "# Then, I select only columns that I need and find statistics variables with agg function.\n",
    "clients[['Age', 'Products', 'Balance', 'Score']].agg({'Age': [np.mean, np.std, np.max, np.min], \n",
    "                                                      'Products': [np.mean, np.std, np.max, np.min],\n",
    "                                                      'Balance': [np.mean, np.std, np.max, np.min],\n",
    "                                                      'Score': [np.mean, np.std, np.max, np.min]})"
   ]
  },
  {
   "cell_type": "code",
   "execution_count": null,
   "id": "14fc9b06-c7d9-4806-badc-761d75152916",
   "metadata": {},
   "outputs": [],
   "source": []
  }
 ],
 "metadata": {
  "kernelspec": {
   "display_name": "Python 3 (ipykernel)",
   "language": "python",
   "name": "python3"
  },
  "language_info": {
   "codemirror_mode": {
    "name": "ipython",
    "version": 3
   },
   "file_extension": ".py",
   "mimetype": "text/x-python",
   "name": "python",
   "nbconvert_exporter": "python",
   "pygments_lexer": "ipython3",
   "version": "3.8.5"
  }
 },
 "nbformat": 4,
 "nbformat_minor": 5
}
